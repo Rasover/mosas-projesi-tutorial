{
 "cells": [
  {
   "cell_type": "code",
   "execution_count": 73,
   "id": "d487a8f3",
   "metadata": {},
   "outputs": [],
   "source": [
    "import pandas as pd\n",
    "import numpy as np\n",
    "from xml.dom import minidom\n",
    "import matplotlib.pyplot as plt"
   ]
  },
  {
   "cell_type": "code",
   "execution_count": 57,
   "id": "445eafe5",
   "metadata": {},
   "outputs": [],
   "source": [
    "\n",
    "def xml(xml_path):\n",
    "    \n",
    "    \n",
    "    \n",
    "# parse an xml file by name\n",
    "    mydoc = minidom.parse(xml_path)\n",
    "\n",
    "    items = mydoc.getElementsByTagName('item')\n",
    "\n",
    "# one specific item attribute\n",
    "    #print('Item #2 attribute:')\n",
    "    #print(items[1].attributes['name'].value)\n",
    "\n",
    "# all item attributes\n",
    "    #print('\\nAll attributes:')\n",
    "    \n",
    "\n",
    "    for elem in items:\n",
    "        veri=[]\n",
    "        sutun=[]\n",
    "\n",
    "        #print(elem.attributes['name'].value)\n",
    "        \n",
    "        #print(elem.firstChild.data)\n",
    "        for i in range(len(items)):\n",
    "            \n",
    "            sutun.append(items[i].firstChild.data)\n",
    "        \n",
    "            veri.append(items[i].attributes['name'].value)\n",
    "    \n",
    "    \"\"\"# one specific item's data\n",
    "    print('\\nItem #2 data:')\n",
    "    print(items[1].firstChild.data)\n",
    "    print(items[1].childNodes[0].data)\"\"\"\n",
    "    \n",
    "\n",
    "        \n",
    "    \n",
    "    X=np.transpose(veri)\n",
    "\n",
    "    Y=np.transpose(sutun)\n",
    "    Y = np.array([Y],np.float32)\n",
    "    X=X.astype(\"object\")\n",
    "\n",
    "    return (X,Y)"
   ]
  },
  {
   "cell_type": "code",
   "execution_count": 87,
   "id": "e70eb085",
   "metadata": {},
   "outputs": [
    {
     "data": {
      "text/plain": [
       "array([[8.993000e+03, 9.247100e+04, 1.028000e+01, 2.024660e+05,\n",
       "        2.251000e+01, 7.956000e+03, 8.800000e-01, 4.399600e+05,\n",
       "        4.892000e+01, 1.873337e+06, 2.083100e+02, 5.960000e+00,\n",
       "        2.907000e+01, 1.379000e+01, 3.350000e+00, 2.454000e+01]],\n",
       "      dtype=float32)"
      ]
     },
     "execution_count": 87,
     "metadata": {},
     "output_type": "execute_result"
    }
   ],
   "source": [
    "X=xml(\"my_intersection.stats.xml\")\n",
    "X[1]"
   ]
  },
  {
   "cell_type": "code",
   "execution_count": 59,
   "id": "7d279e9d",
   "metadata": {},
   "outputs": [
    {
     "data": {
      "text/html": [
       "<div>\n",
       "<style scoped>\n",
       "    .dataframe tbody tr th:only-of-type {\n",
       "        vertical-align: middle;\n",
       "    }\n",
       "\n",
       "    .dataframe tbody tr th {\n",
       "        vertical-align: top;\n",
       "    }\n",
       "\n",
       "    .dataframe thead th {\n",
       "        text-align: right;\n",
       "    }\n",
       "</style>\n",
       "<table border=\"1\" class=\"dataframe\">\n",
       "  <thead>\n",
       "    <tr style=\"text-align: right;\">\n",
       "      <th></th>\n",
       "      <th>totalNumberOfVehicles</th>\n",
       "      <th>totalDepartureDelay</th>\n",
       "      <th>averageDepartureDelay</th>\n",
       "      <th>totalWaitingTime</th>\n",
       "      <th>averageVehicularWaitingTime</th>\n",
       "      <th>totalNumberOfStop</th>\n",
       "      <th>averageNumberOfStop</th>\n",
       "      <th>totalTravelTime</th>\n",
       "      <th>averageVehicularTravelTime</th>\n",
       "      <th>totalTravelLength</th>\n",
       "      <th>averageVehicularTravelLength</th>\n",
       "      <th>averageVehicularTravelSpeed</th>\n",
       "      <th>SDTravelTime</th>\n",
       "      <th>SDLength</th>\n",
       "      <th>SDSpeed</th>\n",
       "      <th>SDWaitTime</th>\n",
       "    </tr>\n",
       "  </thead>\n",
       "  <tbody>\n",
       "    <tr>\n",
       "      <th>0</th>\n",
       "      <td>8993.0</td>\n",
       "      <td>92471.0</td>\n",
       "      <td>10.28</td>\n",
       "      <td>202466.0</td>\n",
       "      <td>22.51</td>\n",
       "      <td>7956.0</td>\n",
       "      <td>0.88</td>\n",
       "      <td>439960.0</td>\n",
       "      <td>48.919998</td>\n",
       "      <td>1873337.0</td>\n",
       "      <td>208.309998</td>\n",
       "      <td>5.96</td>\n",
       "      <td>29.07</td>\n",
       "      <td>13.79</td>\n",
       "      <td>3.35</td>\n",
       "      <td>24.540001</td>\n",
       "    </tr>\n",
       "  </tbody>\n",
       "</table>\n",
       "</div>"
      ],
      "text/plain": [
       "   totalNumberOfVehicles  totalDepartureDelay  averageDepartureDelay  \\\n",
       "0                 8993.0              92471.0                  10.28   \n",
       "\n",
       "   totalWaitingTime  averageVehicularWaitingTime  totalNumberOfStop  \\\n",
       "0          202466.0                        22.51             7956.0   \n",
       "\n",
       "   averageNumberOfStop  totalTravelTime  averageVehicularTravelTime  \\\n",
       "0                 0.88         439960.0                   48.919998   \n",
       "\n",
       "   totalTravelLength  averageVehicularTravelLength  \\\n",
       "0          1873337.0                    208.309998   \n",
       "\n",
       "   averageVehicularTravelSpeed  SDTravelTime  SDLength  SDSpeed  SDWaitTime  \n",
       "0                         5.96         29.07     13.79     3.35   24.540001  "
      ]
     },
     "execution_count": 59,
     "metadata": {},
     "output_type": "execute_result"
    }
   ],
   "source": [
    "\n",
    "\n",
    "static=pd.DataFrame(data=X[1],columns=X[0])\n",
    "static"
   ]
  },
  {
   "cell_type": "code",
   "execution_count": 60,
   "id": "71fdec81",
   "metadata": {},
   "outputs": [
    {
     "data": {
      "text/html": [
       "<div>\n",
       "<style scoped>\n",
       "    .dataframe tbody tr th:only-of-type {\n",
       "        vertical-align: middle;\n",
       "    }\n",
       "\n",
       "    .dataframe tbody tr th {\n",
       "        vertical-align: top;\n",
       "    }\n",
       "\n",
       "    .dataframe thead th {\n",
       "        text-align: right;\n",
       "    }\n",
       "</style>\n",
       "<table border=\"1\" class=\"dataframe\">\n",
       "  <thead>\n",
       "    <tr style=\"text-align: right;\">\n",
       "      <th></th>\n",
       "      <th>totalNumberOfVehicles</th>\n",
       "      <th>totalDepartureDelay</th>\n",
       "      <th>averageDepartureDelay</th>\n",
       "      <th>totalWaitingTime</th>\n",
       "      <th>averageVehicularWaitingTime</th>\n",
       "      <th>totalNumberOfStop</th>\n",
       "      <th>averageNumberOfStop</th>\n",
       "      <th>totalTravelTime</th>\n",
       "      <th>averageVehicularTravelTime</th>\n",
       "      <th>totalTravelLength</th>\n",
       "      <th>averageVehicularTravelLength</th>\n",
       "      <th>averageVehicularTravelSpeed</th>\n",
       "      <th>SDTravelTime</th>\n",
       "      <th>SDLength</th>\n",
       "      <th>SDSpeed</th>\n",
       "      <th>SDWaitTime</th>\n",
       "    </tr>\n",
       "  </thead>\n",
       "  <tbody>\n",
       "    <tr>\n",
       "      <th>0</th>\n",
       "      <td>8993.0</td>\n",
       "      <td>88440.0</td>\n",
       "      <td>9.83</td>\n",
       "      <td>132049.0</td>\n",
       "      <td>14.68</td>\n",
       "      <td>6863.0</td>\n",
       "      <td>0.76</td>\n",
       "      <td>364904.0</td>\n",
       "      <td>40.580002</td>\n",
       "      <td>1873337.0</td>\n",
       "      <td>208.309998</td>\n",
       "      <td>6.73</td>\n",
       "      <td>24.719999</td>\n",
       "      <td>13.79</td>\n",
       "      <td>3.04</td>\n",
       "      <td>21.1</td>\n",
       "    </tr>\n",
       "  </tbody>\n",
       "</table>\n",
       "</div>"
      ],
      "text/plain": [
       "   totalNumberOfVehicles  totalDepartureDelay  averageDepartureDelay  \\\n",
       "0                 8993.0              88440.0                   9.83   \n",
       "\n",
       "   totalWaitingTime  averageVehicularWaitingTime  totalNumberOfStop  \\\n",
       "0          132049.0                        14.68             6863.0   \n",
       "\n",
       "   averageNumberOfStop  totalTravelTime  averageVehicularTravelTime  \\\n",
       "0                 0.76         364904.0                   40.580002   \n",
       "\n",
       "   totalTravelLength  averageVehicularTravelLength  \\\n",
       "0          1873337.0                    208.309998   \n",
       "\n",
       "   averageVehicularTravelSpeed  SDTravelTime  SDLength  SDSpeed  SDWaitTime  \n",
       "0                         6.73     24.719999     13.79     3.04        21.1  "
      ]
     },
     "execution_count": 60,
     "metadata": {},
     "output_type": "execute_result"
    }
   ],
   "source": [
    "Y=xml(\"my_intersection_actuated.stats.xml\")\n",
    "\n",
    "actuated=pd.DataFrame(data=Y[1],columns=Y[0])\n",
    "actuated"
   ]
  },
  {
   "cell_type": "code",
   "execution_count": 61,
   "id": "562077b0",
   "metadata": {},
   "outputs": [
    {
     "data": {
      "text/html": [
       "<div>\n",
       "<style scoped>\n",
       "    .dataframe tbody tr th:only-of-type {\n",
       "        vertical-align: middle;\n",
       "    }\n",
       "\n",
       "    .dataframe tbody tr th {\n",
       "        vertical-align: top;\n",
       "    }\n",
       "\n",
       "    .dataframe thead th {\n",
       "        text-align: right;\n",
       "    }\n",
       "</style>\n",
       "<table border=\"1\" class=\"dataframe\">\n",
       "  <thead>\n",
       "    <tr style=\"text-align: right;\">\n",
       "      <th></th>\n",
       "      <th>totalNumberOfVehicles</th>\n",
       "      <th>totalDepartureDelay</th>\n",
       "      <th>averageDepartureDelay</th>\n",
       "      <th>totalWaitingTime</th>\n",
       "      <th>averageVehicularWaitingTime</th>\n",
       "      <th>totalNumberOfStop</th>\n",
       "      <th>averageNumberOfStop</th>\n",
       "      <th>totalTravelTime</th>\n",
       "      <th>averageVehicularTravelTime</th>\n",
       "      <th>totalTravelLength</th>\n",
       "      <th>averageVehicularTravelLength</th>\n",
       "      <th>averageVehicularTravelSpeed</th>\n",
       "      <th>SDTravelTime</th>\n",
       "      <th>SDLength</th>\n",
       "      <th>SDSpeed</th>\n",
       "      <th>SDWaitTime</th>\n",
       "    </tr>\n",
       "  </thead>\n",
       "  <tbody>\n",
       "    <tr>\n",
       "      <th>0</th>\n",
       "      <td>8993.0</td>\n",
       "      <td>90337.0</td>\n",
       "      <td>10.05</td>\n",
       "      <td>126005.0</td>\n",
       "      <td>14.01</td>\n",
       "      <td>5694.0</td>\n",
       "      <td>0.63</td>\n",
       "      <td>352336.0</td>\n",
       "      <td>39.18</td>\n",
       "      <td>1873337.0</td>\n",
       "      <td>208.309998</td>\n",
       "      <td>7.04</td>\n",
       "      <td>24.42</td>\n",
       "      <td>13.79</td>\n",
       "      <td>3.18</td>\n",
       "      <td>20.92</td>\n",
       "    </tr>\n",
       "  </tbody>\n",
       "</table>\n",
       "</div>"
      ],
      "text/plain": [
       "   totalNumberOfVehicles  totalDepartureDelay  averageDepartureDelay  \\\n",
       "0                 8993.0              90337.0                  10.05   \n",
       "\n",
       "   totalWaitingTime  averageVehicularWaitingTime  totalNumberOfStop  \\\n",
       "0          126005.0                        14.01             5694.0   \n",
       "\n",
       "   averageNumberOfStop  totalTravelTime  averageVehicularTravelTime  \\\n",
       "0                 0.63         352336.0                       39.18   \n",
       "\n",
       "   totalTravelLength  averageVehicularTravelLength  \\\n",
       "0          1873337.0                    208.309998   \n",
       "\n",
       "   averageVehicularTravelSpeed  SDTravelTime  SDLength  SDSpeed  SDWaitTime  \n",
       "0                         7.04         24.42     13.79     3.18       20.92  "
      ]
     },
     "execution_count": 61,
     "metadata": {},
     "output_type": "execute_result"
    }
   ],
   "source": [
    "Z=xml(\"my_intersection_delay_based.stats.xml\")\n",
    "\n",
    "delay_based=pd.DataFrame(data=Z[1],columns=Z[0])\n",
    "delay_based"
   ]
  },
  {
   "cell_type": "code",
   "execution_count": 167,
   "id": "3e8dc18a",
   "metadata": {},
   "outputs": [
    {
     "data": {
      "text/html": [
       "<div>\n",
       "<style scoped>\n",
       "    .dataframe tbody tr th:only-of-type {\n",
       "        vertical-align: middle;\n",
       "    }\n",
       "\n",
       "    .dataframe tbody tr th {\n",
       "        vertical-align: top;\n",
       "    }\n",
       "\n",
       "    .dataframe thead th {\n",
       "        text-align: right;\n",
       "    }\n",
       "</style>\n",
       "<table border=\"1\" class=\"dataframe\">\n",
       "  <thead>\n",
       "    <tr style=\"text-align: right;\">\n",
       "      <th></th>\n",
       "      <th>totalNumberOfVehicles</th>\n",
       "      <th>totalDepartureDelay</th>\n",
       "      <th>averageDepartureDelay</th>\n",
       "      <th>totalWaitingTime</th>\n",
       "      <th>averageVehicularWaitingTime</th>\n",
       "      <th>totalNumberOfStop</th>\n",
       "      <th>averageNumberOfStop</th>\n",
       "      <th>totalTravelTime</th>\n",
       "      <th>averageVehicularTravelTime</th>\n",
       "      <th>totalTravelLength</th>\n",
       "      <th>averageVehicularTravelLength</th>\n",
       "      <th>averageVehicularTravelSpeed</th>\n",
       "      <th>SDTravelTime</th>\n",
       "      <th>SDLength</th>\n",
       "      <th>SDSpeed</th>\n",
       "      <th>SDWaitTime</th>\n",
       "    </tr>\n",
       "  </thead>\n",
       "  <tbody>\n",
       "    <tr>\n",
       "      <th>Static</th>\n",
       "      <td>8993.0</td>\n",
       "      <td>92471.0</td>\n",
       "      <td>10.28</td>\n",
       "      <td>202466.0</td>\n",
       "      <td>22.51</td>\n",
       "      <td>7956.0</td>\n",
       "      <td>0.88</td>\n",
       "      <td>439960.0</td>\n",
       "      <td>48.919998</td>\n",
       "      <td>1873337.0</td>\n",
       "      <td>208.309998</td>\n",
       "      <td>5.96</td>\n",
       "      <td>29.070000</td>\n",
       "      <td>13.79</td>\n",
       "      <td>3.35</td>\n",
       "      <td>24.540001</td>\n",
       "    </tr>\n",
       "    <tr>\n",
       "      <th>Actuated</th>\n",
       "      <td>8993.0</td>\n",
       "      <td>88440.0</td>\n",
       "      <td>9.83</td>\n",
       "      <td>132049.0</td>\n",
       "      <td>14.68</td>\n",
       "      <td>6863.0</td>\n",
       "      <td>0.76</td>\n",
       "      <td>364904.0</td>\n",
       "      <td>40.580002</td>\n",
       "      <td>1873337.0</td>\n",
       "      <td>208.309998</td>\n",
       "      <td>6.73</td>\n",
       "      <td>24.719999</td>\n",
       "      <td>13.79</td>\n",
       "      <td>3.04</td>\n",
       "      <td>21.100000</td>\n",
       "    </tr>\n",
       "    <tr>\n",
       "      <th>Delay Based</th>\n",
       "      <td>8993.0</td>\n",
       "      <td>90337.0</td>\n",
       "      <td>10.05</td>\n",
       "      <td>126005.0</td>\n",
       "      <td>14.01</td>\n",
       "      <td>5694.0</td>\n",
       "      <td>0.63</td>\n",
       "      <td>352336.0</td>\n",
       "      <td>39.180000</td>\n",
       "      <td>1873337.0</td>\n",
       "      <td>208.309998</td>\n",
       "      <td>7.04</td>\n",
       "      <td>24.420000</td>\n",
       "      <td>13.79</td>\n",
       "      <td>3.18</td>\n",
       "      <td>20.920000</td>\n",
       "    </tr>\n",
       "  </tbody>\n",
       "</table>\n",
       "</div>"
      ],
      "text/plain": [
       "             totalNumberOfVehicles  totalDepartureDelay  \\\n",
       "Static                      8993.0              92471.0   \n",
       "Actuated                    8993.0              88440.0   \n",
       "Delay Based                 8993.0              90337.0   \n",
       "\n",
       "             averageDepartureDelay  totalWaitingTime  \\\n",
       "Static                       10.28          202466.0   \n",
       "Actuated                      9.83          132049.0   \n",
       "Delay Based                  10.05          126005.0   \n",
       "\n",
       "             averageVehicularWaitingTime  totalNumberOfStop  \\\n",
       "Static                             22.51             7956.0   \n",
       "Actuated                           14.68             6863.0   \n",
       "Delay Based                        14.01             5694.0   \n",
       "\n",
       "             averageNumberOfStop  totalTravelTime  averageVehicularTravelTime  \\\n",
       "Static                      0.88         439960.0                   48.919998   \n",
       "Actuated                    0.76         364904.0                   40.580002   \n",
       "Delay Based                 0.63         352336.0                   39.180000   \n",
       "\n",
       "             totalTravelLength  averageVehicularTravelLength  \\\n",
       "Static               1873337.0                    208.309998   \n",
       "Actuated             1873337.0                    208.309998   \n",
       "Delay Based          1873337.0                    208.309998   \n",
       "\n",
       "             averageVehicularTravelSpeed  SDTravelTime  SDLength  SDSpeed  \\\n",
       "Static                              5.96     29.070000     13.79     3.35   \n",
       "Actuated                            6.73     24.719999     13.79     3.04   \n",
       "Delay Based                         7.04     24.420000     13.79     3.18   \n",
       "\n",
       "             SDWaitTime  \n",
       "Static        24.540001  \n",
       "Actuated      21.100000  \n",
       "Delay Based   20.920000  "
      ]
     },
     "execution_count": 167,
     "metadata": {},
     "output_type": "execute_result"
    }
   ],
   "source": [
    "df=pd.concat([static, actuated,delay_based], axis =0,ignore_index =True)\n",
    "df=df.rename(index={0: 'Static',1:'Actuated',2:'Delay Based'})\n",
    "df"
   ]
  },
  {
   "cell_type": "code",
   "execution_count": 168,
   "id": "f1689b15",
   "metadata": {},
   "outputs": [],
   "source": [
    "df_new=df[['totalNumberOfVehicles','totalDepartureDelay','totalWaitingTime','totalNumberOfStop','totalTravelTime']]"
   ]
  },
  {
   "cell_type": "code",
   "execution_count": 169,
   "id": "7f8e2ab3",
   "metadata": {},
   "outputs": [
    {
     "name": "stdout",
     "output_type": "stream",
     "text": [
      "<class 'pandas.core.frame.DataFrame'>\n",
      "Index: 3 entries, Static to Delay Based\n",
      "Data columns (total 16 columns):\n",
      " #   Column                        Non-Null Count  Dtype  \n",
      "---  ------                        --------------  -----  \n",
      " 0   totalNumberOfVehicles         3 non-null      float32\n",
      " 1   totalDepartureDelay           3 non-null      float32\n",
      " 2   averageDepartureDelay         3 non-null      float32\n",
      " 3   totalWaitingTime              3 non-null      float32\n",
      " 4   averageVehicularWaitingTime   3 non-null      float32\n",
      " 5   totalNumberOfStop             3 non-null      float32\n",
      " 6   averageNumberOfStop           3 non-null      float32\n",
      " 7   totalTravelTime               3 non-null      float32\n",
      " 8   averageVehicularTravelTime    3 non-null      float32\n",
      " 9   totalTravelLength             3 non-null      float32\n",
      " 10  averageVehicularTravelLength  3 non-null      float32\n",
      " 11  averageVehicularTravelSpeed   3 non-null      float32\n",
      " 12  SDTravelTime                  3 non-null      float32\n",
      " 13  SDLength                      3 non-null      float32\n",
      " 14  SDSpeed                       3 non-null      float32\n",
      " 15  SDWaitTime                    3 non-null      float32\n",
      "dtypes: float32(16)\n",
      "memory usage: 216.0+ bytes\n"
     ]
    }
   ],
   "source": [
    "df.info()"
   ]
  },
  {
   "cell_type": "code",
   "execution_count": 170,
   "id": "76a44e76",
   "metadata": {},
   "outputs": [
    {
     "data": {
      "text/html": [
       "<div>\n",
       "<style scoped>\n",
       "    .dataframe tbody tr th:only-of-type {\n",
       "        vertical-align: middle;\n",
       "    }\n",
       "\n",
       "    .dataframe tbody tr th {\n",
       "        vertical-align: top;\n",
       "    }\n",
       "\n",
       "    .dataframe thead th {\n",
       "        text-align: right;\n",
       "    }\n",
       "</style>\n",
       "<table border=\"1\" class=\"dataframe\">\n",
       "  <thead>\n",
       "    <tr style=\"text-align: right;\">\n",
       "      <th></th>\n",
       "      <th>totalNumberOfVehicles</th>\n",
       "      <th>totalDepartureDelay</th>\n",
       "      <th>totalWaitingTime</th>\n",
       "      <th>totalNumberOfStop</th>\n",
       "      <th>totalTravelTime</th>\n",
       "    </tr>\n",
       "  </thead>\n",
       "  <tbody>\n",
       "    <tr>\n",
       "      <th>Static</th>\n",
       "      <td>8993.0</td>\n",
       "      <td>92471.0</td>\n",
       "      <td>202466.0</td>\n",
       "      <td>7956.0</td>\n",
       "      <td>439960.0</td>\n",
       "    </tr>\n",
       "    <tr>\n",
       "      <th>Actuated</th>\n",
       "      <td>8993.0</td>\n",
       "      <td>88440.0</td>\n",
       "      <td>132049.0</td>\n",
       "      <td>6863.0</td>\n",
       "      <td>364904.0</td>\n",
       "    </tr>\n",
       "    <tr>\n",
       "      <th>Delay Based</th>\n",
       "      <td>8993.0</td>\n",
       "      <td>90337.0</td>\n",
       "      <td>126005.0</td>\n",
       "      <td>5694.0</td>\n",
       "      <td>352336.0</td>\n",
       "    </tr>\n",
       "  </tbody>\n",
       "</table>\n",
       "</div>"
      ],
      "text/plain": [
       "             totalNumberOfVehicles  totalDepartureDelay  totalWaitingTime  \\\n",
       "Static                      8993.0              92471.0          202466.0   \n",
       "Actuated                    8993.0              88440.0          132049.0   \n",
       "Delay Based                 8993.0              90337.0          126005.0   \n",
       "\n",
       "             totalNumberOfStop  totalTravelTime  \n",
       "Static                  7956.0         439960.0  \n",
       "Actuated                6863.0         364904.0  \n",
       "Delay Based             5694.0         352336.0  "
      ]
     },
     "execution_count": 170,
     "metadata": {},
     "output_type": "execute_result"
    }
   ],
   "source": [
    "\n",
    "#df_new=df_new.rename(index={0: 'Static',1:'Actuated',2:'Delay Based'})\n",
    "df_new"
   ]
  },
  {
   "cell_type": "code",
   "execution_count": 171,
   "id": "13935e5d",
   "metadata": {},
   "outputs": [
    {
     "data": {
      "text/plain": [
       "Text(0.5, 1.0, 'Toplam')"
      ]
     },
     "execution_count": 171,
     "metadata": {},
     "output_type": "execute_result"
    },
    {
     "data": {
      "image/png": "[encoded data removed]",
      "text/plain": [
       "<Figure size 864x576 with 1 Axes>"
      ]
     },
     "metadata": {},
     "output_type": "display_data"
    }
   ],
   "source": [
    "plt.style.use('ggplot')\n",
    "df_new.T.plot(kind='bar',figsize=(12,8))\n",
    "plt.title(\"Toplam\")"
   ]
  },
  {
   "cell_type": "code",
   "execution_count": 172,
   "id": "a9ff3f66",
   "metadata": {},
   "outputs": [],
   "source": [
    "df.drop(['totalNumberOfVehicles','totalDepartureDelay','totalWaitingTime','totalNumberOfStop','totalTravelTime','totalTravelLength','averageVehicularTravelLength'],axis=1, inplace=True)\n"
   ]
  },
  {
   "cell_type": "code",
   "execution_count": 173,
   "id": "e07616fa",
   "metadata": {},
   "outputs": [
    {
     "data": {
      "text/plain": [
       "Text(0.5, 1.0, 'Ortalama')"
      ]
     },
     "execution_count": 173,
     "metadata": {},
     "output_type": "execute_result"
    },
    {
     "data": {
      "image/png": "[encoded data removed]",
      "text/plain": [
       "<Figure size 864x576 with 1 Axes>"
      ]
     },
     "metadata": {},
     "output_type": "display_data"
    }
   ],
   "source": [
    "#plt.style.use('ggplot')\n",
    "df.T.plot(kind='bar',figsize=(12,8))\n",
    "plt.title(\"Ortalama\")"
   ]
  },
  {
   "cell_type": "code",
   "execution_count": null,
   "id": "f122bd1d",
   "metadata": {},
   "outputs": [],
   "source": [
    "\n"
   ]
  },
  {
   "cell_type": "code",
   "execution_count": null,
   "id": "57537837",
   "metadata": {},
   "outputs": [],
   "source": []
  }
 ],
 "metadata": {
  "kernelspec": {
   "display_name": "Python 3 (ipykernel)",
   "language": "python",
   "name": "python3"
  },
  "language_info": {
   "codemirror_mode": {
    "name": "ipython",
    "version": 3
   },
   "file_extension": ".py",
   "mimetype": "text/x-python",
   "name": "python",
   "nbconvert_exporter": "python",
   "pygments_lexer": "ipython3",
   "version": "3.9.7"
  }
 },
 "nbformat": 4,
 "nbformat_minor": 5
}
